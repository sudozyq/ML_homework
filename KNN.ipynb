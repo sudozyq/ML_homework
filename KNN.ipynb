{
 "cells": [
  {
   "cell_type": "code",
   "execution_count": 55,
   "metadata": {},
   "outputs": [
    {
     "name": "stdout",
     "output_type": "stream",
     "text": [
      "Train set :7000\n",
      "Test set :1000\n"
     ]
    }
   ],
   "source": [
    "import pandas as pd\n",
    "\n",
    "train = pd.read_csv('Training-set.csv')\n",
    "test = pd.read_csv('testing-set.csv')\n",
    "train_X = train[['a', 'b', 'c']]\n",
    "train_y = train[['t']]\n",
    "test_X = test[['a', 'b', 'c']]\n",
    "test_y = test[['t']]\n",
    "\n",
    "print(\"Train set :\" + repr(len(train_X)))\n",
    "print(\"Test set :\" + repr(len(test_X)))"
   ]
  },
  {
   "cell_type": "code",
   "execution_count": 58,
   "metadata": {},
   "outputs": [
    {
     "name": "stdout",
     "output_type": "stream",
     "text": [
      "0.769\n",
      "1.0\n",
      "精确度:0.82522\n",
      "召回率:0.71048\n",
      "F1值:0.76356\n"
     ]
    }
   ],
   "source": [
    "from sklearn import preprocessing\n",
    "from sklearn import neighbors\n",
    "from sklearn.model_selection import cross_val_score\n",
    "from sklearn.metrics import precision_score\n",
    "from sklearn.metrics import recall_score,f1_score\n",
    "from sklearn.neighbors import KNeighborsClassifier\n",
    "import matplotlib.pyplot as plt\n",
    "import numpy as np\n",
    "\n",
    "# 未标准化\n",
    "# 导入sklearn.neighbors模块中KNN类\n",
    "knn = KNeighborsClassifier(n_neighbors=3, weights='distance', algorithm='auto', n_jobs=2)\n",
    "knn.fit(train_X, train_y.values.ravel())\n",
    "knn.score(test_X, test_y)\n",
    "y = knn.predict(test_X)\n",
    "\n",
    "print(knn.score(test_X, test_y))\n",
    "print(knn.score(train_X, train_y.values.ravel()))\n",
    "print('精确度:%.5f' % precision_score(y_true=test_y, y_pred=y))\n",
    "print('召回率:%.5f' % recall_score(y_true=test_y, y_pred=y))\n",
    "print('F1值:%.5f' % f1_score(y_true=test_y, y_pred=y))"
   ]
  },
  {
   "cell_type": "code",
   "execution_count": 62,
   "metadata": {
    "scrolled": true
   },
   "outputs": [
    {
     "name": "stdout",
     "output_type": "stream",
     "text": [
      "0.524\n",
      "1.0\n",
      "精确度:0.52457\n",
      "召回率:0.99619\n",
      "F1值:0.68725\n"
     ]
    }
   ],
   "source": [
    "from sklearn import preprocessing\n",
    "from sklearn import neighbors\n",
    "from sklearn.model_selection import cross_val_score\n",
    "from sklearn.metrics import precision_score\n",
    "from sklearn.metrics import recall_score,f1_score\n",
    "from sklearn.neighbors import KNeighborsClassifier\n",
    "import matplotlib.pyplot as plt\n",
    "import numpy as np\n",
    "\n",
    "\n",
    "# 导入sklearn.neighbors模块中KNN类\n",
    "knn = KNeighborsClassifier(n_neighbors=3, weights='distance', algorithm='auto', n_jobs=2)\n",
    "\n",
    "# 对数据标准化\n",
    "X_train_X_scaled = preprocessing.scale(train_X)\n",
    "# y_train_y_scaled = preprocessing.scale(train_y.values.ravel())\n",
    "X_test_X_scaled = preprocessing.scale(test_X)\n",
    "\n",
    "\n",
    "knn.fit(X_train_X_scaled, train_y.values.ravel())\n",
    "knn.score(X_test_X_scaled, test_y)\n",
    "y = knn.predict(X_test_X_scaled)\n",
    "\n",
    "print(knn.score(X_test_X_scaled, test_y))\n",
    "print(knn.score(X_train_X_scaled, train_y.values.ravel()))\n",
    "print('精确度:%.5f' % precision_score(y_true=test_y, y_pred=y))\n",
    "print('召回率:%.5f' % recall_score(y_true=test_y, y_pred=y))\n",
    "print('F1值:%.5f' % f1_score(y_true=test_y, y_pred=y))"
   ]
  },
  {
   "cell_type": "code",
   "execution_count": 60,
   "metadata": {},
   "outputs": [
    {
     "data": {
      "image/png": "[encoded data removed]",
      "text/plain": [
       "<Figure size 432x288 with 1 Axes>"
      ]
     },
     "metadata": {
      "needs_background": "light"
     },
     "output_type": "display_data"
    }
   ],
   "source": [
    "#########################KNN K值选取探索################################\n",
    "neighbors = np.arange(1,9)\n",
    "train_accuracy =np.empty(len(neighbors))\n",
    "test_accuracy = np.empty(len(neighbors))\n",
    " \n",
    "for i,k in enumerate(neighbors):\n",
    "    #Setup a knn classifier with k neighbors\n",
    "    knn = KNeighborsClassifier(n_neighbors=k)\n",
    "    \n",
    "    #Fit the model\n",
    "    knn.fit(train_X, train_y.values.ravel())\n",
    "    \n",
    "    #Compute accuracy on the training set\n",
    "    train_accuracy[i] = knn.score(train_X, train_y.values.ravel())\n",
    "    \n",
    "    #Compute accuracy on the test set\n",
    "test_accuracy[i] = knn.score(test_X, test_y)\n",
    " \n",
    "plt.title('k-NN Varying number of neighbors')\n",
    "plt.plot(neighbors, test_accuracy, label='Testing Accuracy')\n",
    "plt.plot(neighbors, train_accuracy, label='Training accuracy')\n",
    "plt.legend()\n",
    "plt.xlabel('Number of neighbors')\n",
    "plt.ylabel('Accuracy')\n",
    "plt.show()\n"
   ]
  },
  {
   "cell_type": "code",
   "execution_count": 64,
   "metadata": {},
   "outputs": [
    {
     "name": "stdout",
     "output_type": "stream",
     "text": [
      "0.768\n",
      "1.0\n",
      "精确度:0.82628\n",
      "召回率:0.70667\n",
      "F1值:0.76181\n"
     ]
    }
   ],
   "source": [
    "# 根据上图选取5\n",
    "# 导入sklearn.neighbors模块中KNN类\n",
    "knn = KNeighborsClassifier(n_neighbors=5, weights='distance', algorithm='auto', n_jobs=2)\n",
    "knn.fit(train_X, train_y.values.ravel())\n",
    "knn.score(test_X, test_y)\n",
    "y = knn.predict(test_X)\n",
    "\n",
    "print(knn.score(test_X, test_y))\n",
    "print(knn.score(train_X, train_y.values.ravel()))\n",
    "print('精确度:%.5f' % precision_score(y_true=test_y, y_pred=y))\n",
    "print('召回率:%.5f' % recall_score(y_true=test_y, y_pred=y))\n",
    "print('F1值:%.5f' % f1_score(y_true=test_y, y_pred=y))\n",
    "\n"
   ]
  },
  {
   "cell_type": "code",
   "execution_count": null,
   "metadata": {},
   "outputs": [],
   "source": []
  }
 ],
 "metadata": {
  "kernelspec": {
   "display_name": "Python 3",
   "language": "python",
   "name": "python3"
  },
  "language_info": {
   "codemirror_mode": {
    "name": "ipython",
    "version": 3
   },
   "file_extension": ".py",
   "mimetype": "text/x-python",
   "name": "python",
   "nbconvert_exporter": "python",
   "pygments_lexer": "ipython3",
   "version": "3.7.1"
  }
 },
 "nbformat": 4,
 "nbformat_minor": 2
}

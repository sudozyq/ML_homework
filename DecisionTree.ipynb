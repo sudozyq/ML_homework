{
 "cells": [
  {
   "cell_type": "code",
   "execution_count": 6,
   "metadata": {},
   "outputs": [
    {
     "name": "stdout",
     "output_type": "stream",
     "text": [
      "<class 'pandas.core.frame.DataFrame'>\n",
      "RangeIndex: 7000 entries, 0 to 6999\n",
      "Data columns (total 5 columns):\n",
      "id    7000 non-null int64\n",
      "a     7000 non-null float64\n",
      "b     7000 non-null float64\n",
      "c     7000 non-null float64\n",
      "t     7000 non-null int64\n",
      "dtypes: float64(3), int64(2)\n",
      "memory usage: 273.5 KB\n",
      "<class 'pandas.core.frame.DataFrame'>\n",
      "RangeIndex: 1000 entries, 0 to 999\n",
      "Data columns (total 5 columns):\n",
      "id    1000 non-null int64\n",
      "a     1000 non-null float64\n",
      "b     1000 non-null float64\n",
      "c     1000 non-null float64\n",
      "t     1000 non-null int64\n",
      "dtypes: float64(3), int64(2)\n",
      "memory usage: 39.1 KB\n"
     ]
    }
   ],
   "source": [
    "import pandas as pd\n",
    "\n",
    "train = pd.read_csv('Training-set.csv')\n",
    "test = pd.read_csv('testing-set.csv')\n",
    "train_X = train[['a', 'b', 'c']]\n",
    "train_y = train[['t']]\n",
    "test_X = test[['a', 'b', 'c']]\n",
    "test_y = test[['t']]\n",
    "\n",
    "train.info()\n",
    "test.info()"
   ]
  },
  {
   "cell_type": "code",
   "execution_count": 18,
   "metadata": {},
   "outputs": [
    {
     "name": "stdout",
     "output_type": "stream",
     "text": [
      "训练集准确度:1.000\n",
      "测试集准确度:0.759\n"
     ]
    }
   ],
   "source": [
    "from sklearn.tree import export_graphviz\n",
    "from sklearn.tree import DecisionTreeClassifier\n",
    "# 参数random_state是指随机生成器，0表示函数输出是固定不变的\n",
    "\n",
    "tree = DecisionTreeClassifier(random_state = 0)\n",
    "tree.fit(train_X, train_y)\n",
    "print('训练集准确度:{:.3f}'.format(tree.score(train_X, train_y)))\n",
    "print('测试集准确度:{:.3f}'.format(tree.score(test_X, test_y)))\n"
   ]
  },
  {
   "cell_type": "code",
   "execution_count": 20,
   "metadata": {},
   "outputs": [],
   "source": [
    "import pydot\n",
    "# 生成可视化图\n",
    "export_graphviz(tree,out_file=\"tree.dot\",class_names=['t = 0','t = 1'],impurity=False,filled=True)\n",
    "# 展示可视化图\n",
    "(graph,) = pydot.graph_from_dot_file('tree.dot')\n",
    "graph.write_png('决策树过程图.png')"
   ]
  },
  {
   "cell_type": "code",
   "execution_count": null,
   "metadata": {},
   "outputs": [],
   "source": []
  }
 ],
 "metadata": {
  "kernelspec": {
   "display_name": "Python 3",
   "language": "python",
   "name": "python3"
  },
  "language_info": {
   "codemirror_mode": {
    "name": "ipython",
    "version": 3
   },
   "file_extension": ".py",
   "mimetype": "text/x-python",
   "name": "python",
   "nbconvert_exporter": "python",
   "pygments_lexer": "ipython3",
   "version": "3.7.1"
  }
 },
 "nbformat": 4,
 "nbformat_minor": 2
}

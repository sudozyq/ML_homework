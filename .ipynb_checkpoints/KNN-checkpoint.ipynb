{
 "cells": [
  {
   "cell_type": "code",
   "execution_count": 2,
   "metadata": {},
   "outputs": [
    {
     "name": "stdout",
     "output_type": "stream",
     "text": [
      "Train set :7000\n",
      "Test set :1000\n"
     ]
    }
   ],
   "source": [
    "import pandas as pd\n",
    "\n",
    "train = pd.read_csv('Training-set.csv')\n",
    "test = pd.read_csv('testing-set.csv')\n",
    "train_X = train[['a', 'b', 'c']]\n",
    "train_y = train[['t']]\n",
    "test_X = test[['a', 'b', 'c']]\n",
    "test_y = test[['t']]\n",
    "\n",
    "print(\"Train set :\" + repr(len(train_X)))\n",
    "print(\"Test set :\" + repr(len(test_X)))"
   ]
  },
  {
   "cell_type": "code",
   "execution_count": 20,
   "metadata": {},
   "outputs": [
    {
     "name": "stdout",
     "output_type": "stream",
     "text": [
      "0.769\n",
      "1.0\n",
      "Precision:0.82522\n",
      "Recall:0.71048\n",
      "F1:0.76356\n"
     ]
    }
   ],
   "source": [
    "from sklearn import preprocessing\n",
    "from sklearn import neighbors\n",
    "from sklearn.model_selection import cross_val_score\n",
    "from sklearn.metrics import precision_score\n",
    "from sklearn.metrics import recall_score,f1_score\n",
    "from sklearn.neighbors import KNeighborsClassifier\n",
    "import matplotlib.pyplot as plt\n",
    "import numpy as np\n",
    "\n",
    "# 未标准化\n",
    "# 导入sklearn.neighbors模块中KNN类\n",
    "knn = KNeighborsClassifier(n_neighbors=3, weights='distance', algorithm='auto', n_jobs=2)\n",
    "knn.fit(train_X, train_y.values.ravel())\n",
    "knn.score(test_X, test_y)\n",
    "y = knn.predict(test_X)\n",
    "\n",
    "print(knn.score(test_X, test_y))\n",
    "print(knn.score(train_X, train_y.values.ravel()))\n",
    "print('Precision:%.5f' % precision_score(y_true=test_y, y_pred=y))\n",
    "print('Recall:%.5f' % recall_score(y_true=test_y, y_pred=y))\n",
    "print('F1:%.5f' % f1_score(y_true=test_y, y_pred=y))\n"
   ]
  },
  {
   "cell_type": "code",
   "execution_count": null,
   "metadata": {},
   "outputs": [],
   "source": [
    "# 标准化"
   ]
  }
 ],
 "metadata": {
  "kernelspec": {
   "display_name": "Python 3",
   "language": "python",
   "name": "python3"
  },
  "language_info": {
   "codemirror_mode": {
    "name": "ipython",
    "version": 3
   },
   "file_extension": ".py",
   "mimetype": "text/x-python",
   "name": "python",
   "nbconvert_exporter": "python",
   "pygments_lexer": "ipython3",
   "version": "3.7.1"
  }
 },
 "nbformat": 4,
 "nbformat_minor": 2
}

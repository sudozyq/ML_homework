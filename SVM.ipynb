{
 "cells": [
  {
   "cell_type": "code",
   "execution_count": 9,
   "metadata": {},
   "outputs": [],
   "source": [
    "import matplotlib.pyplot as plt\n",
    "import pandas as pd\n",
    "from sklearn.metrics import precision_score\n",
    "from sklearn.metrics import recall_score,f1_score\n",
    "\n",
    "train = pd.read_csv('Training-set.csv')\n",
    "test = pd.read_csv('Testing-set.csv')\n",
    "train_X = train[['a', 'b', 'c']]\n",
    "train_y = train[['t']]\n",
    "test_X = test[['a', 'b', 'c']]\n",
    "test_y = test[['t']]\n",
    "test_ys=pd.read_csv('Testing-set.csv')"
   ]
  },
  {
   "cell_type": "code",
   "execution_count": 12,
   "metadata": {},
   "outputs": [
    {
     "name": "stdout",
     "output_type": "stream",
     "text": [
      "预测结果：\n",
      " [1 1 1 1 0 1 1 0 0 1 0 1 1 0 1 0 0 1 1 1 0 1 0 1 1 1 1 1 1 0 0 1 1 1 1 1 0\n",
      " 0 1 1 1 1 0 1 0 1 1 1 1 1 0 1 1 1 1 1 0 0 1 1 1 1 0 1 1 1 0 1 0 1 1 0 0 1\n",
      " 1 0 0 1 1 1 1 1 1 1 0 1 0 0 1 0 0 1 1 0 1 0 1 1 1 0 1 1 1 0 0 1 1 1 1 1 0\n",
      " 1 1 1 1 0 1 0 1 1 0 0 1 1 0 1 1 0 1 1 0 1 1 1 1 1 1 1 0 1 1 1 0 1 1 0 1 1\n",
      " 0 1 1 1 0 0 1 1 1 1 1 1 1 1 0 1 1 1 1 0 1 1 0 1 1 0 1 1 1 1 0 1 0 0 1 0 1\n",
      " 1 1 1 1 0 1 1 1 1 1 0 1 1 0 0 1 1 1 1 0 0 1 1 1 1 0 1 0 1 0 1 1 0 1 1 0 0\n",
      " 1 1 1 1 1 0 0 1 1 1 1 1 1 1 1 1 0 1 0 1 0 1 0 1 0 1 1 0 0 1 1 1 1 1 1 1 1\n",
      " 1 1 1 0 1 1 1 1 1 0 1 0 1 0 1 0 0 1 1 0 1 0 1 1 0 1 1 1 1 1 1 1 1 1 0 0 1\n",
      " 1 1 1 1 1 0 1 0 1 1 0 1 1 1 0 0 0 1 1 1 1 1 1 1 0 1 1 1 1 1 1 1 0 1 1 0 0\n",
      " 1 0 0 1 1 0 1 0 1 1 1 0 1 0 1 0 0 1 1 1 1 0 1 0 1 1 1 1 1 0 1 1 1 1 0 1 1\n",
      " 1 1 1 1 1 1 0 1 0 1 1 1 1 0 1 1 1 1 1 0 1 1 1 0 0 1 0 0 1 0 0 1 1 1 1 1 1\n",
      " 0 1 1 0 0 0 1 1 1 0 1 1 1 0 1 1 0 1 1 1 1 1 1 1 0 1 0 1 0 0 1 1 1 1 0 1 0\n",
      " 1 1 1 1 1 0 1 1 0 1 1 1 1 1 1 1 0 1 0 1 1 1 1 1 1 1 1 1 0 1 1 1 1 1 0 0 1\n",
      " 1 1 1 1 1 1 0 0 1 1 0 1 1 0 0 1 1 1 1 1 1 1 1 1 1 1 1 1 1 1 0 1 1 0 0 1 1\n",
      " 1 1 1 1 1 1 1 1 0 1 1 1 0 0 1 1 0 1 0 0 1 0 1 0 1 0 1 1 0 1 1 1 0 1 0 1 1\n",
      " 1 1 0 1 1 0 1 1 0 0 1 1 1 1 1 1 0 1 1 0 1 1 0 1 1 1 0 0 0 1 1 1 1 1 0 1 1\n",
      " 1 1 1 0 0 0 0 0 1 1 0 1 0 1 1 1 1 0 1 1 1 0 1 1 1 0 1 1 0 1 0 1 0 1 1 0 1\n",
      " 1 1 1 1 0 1 0 1 0 0 1 0 0 1 0 1 1 1 0 0 1 0 1 1 1 1 1 0 1 1 1 1 1 1 0 0 0\n",
      " 1 1 1 0 0 1 1 1 1 1 1 0 1 0 1 1 1 1 1 1 1 0 0 1 1 0 1 0 1 1 1 0 1 1 0 0 1\n",
      " 1 1 0 1 0 0 0 1 1 0 1 0 1 1 1 0 1 0 1 1 1 0 1 1 0 1 1 1 0 0 1 0 1 1 0 0 0\n",
      " 1 0 1 1 1 1 0 1 1 0 1 0 0 1 0 1 0 0 0 1 1 0 1 0 1 0 1 0 1 0 1 1 1 1 0 1 0\n",
      " 1 1 1 1 0 1 1 1 1 1 1 0 1 1 1 1 1 1 0 0 0 1 0 1 1 1 1 1 0 1 1 1 1 0 1 0 1\n",
      " 0 0 0 1 1 1 1 1 1 0 1 1 1 1 1 1 1 1 1 1 1 1 1 1 0 0 0 1 0 1 1 1 1 1 0 0 1\n",
      " 1 0 1 1 0 0 1 0 0 0 1 1 1 1 1 1 1 1 0 1 0 1 1 1 1 1 1 1 1 0 1 0 0 1 1 1 1\n",
      " 1 1 1 0 1 1 1 0 1 1 1 1 0 1 0 0 1 1 1 0 0 0 1 1 1 1 1 1 1 0 0 1 1 1 1 1 1\n",
      " 1 1 1 0 1 1 1 0 0 1 1 1 1 1 0 1 0 1 1 1 1 1 1 0 0 1 0 0 0 1 1 1 1 1 0 0 1\n",
      " 0 0 1 0 0 0 1 1 1 0 0 1 1 0 1 1 1 1 0 0 0 1 0 0 1 1 1 1 0 1 1 1 1 1 1 1 0\n",
      " 1]\n",
      "支持向量： [[ 3.28871187e+00 -2.98627397e+00  4.35278743e-01]\n",
      " [ 2.99963747e+00 -4.06184498e-01  5.52262637e-01]\n",
      " [-2.56359820e+00  7.95954728e-01 -6.02011959e-01]\n",
      " ...\n",
      " [-3.21047461e-01  8.76501821e+00  7.65010355e-01]\n",
      " [-2.04817959e+01  4.45800000e-03  8.83642670e-01]\n",
      " [-2.21829000e-01  1.25674239e+01  1.88388229e+00]]\n",
      "支持向量索引： [   2    3    7 ... 6995 6998 6999]\n",
      "支持向量数量： [3461 3524]\n",
      "0.9994285714285714\n",
      "0.767\n",
      "精确度:0.71159\n",
      "召回率:0.93524\n",
      "F1值:0.80823\n"
     ]
    }
   ],
   "source": [
    "from sklearn import svm\n",
    "\n",
    "clf = svm.SVC(C=1, kernel='rbf', gamma=25, decision_function_shape='ovr')\n",
    "clf = clf.fit(train_X,train_y.values.ravel(), sample_weight=None)\n",
    "y=clf.predict(test_X)\n",
    "\n",
    "\n",
    "print('预测结果：\\n',y)  # 输出预测值\n",
    "\n",
    "# 获得支持向量\n",
    "print('支持向量：',clf.support_vectors_)\n",
    "# 获得支持向量的索引\n",
    "print('支持向量索引：',clf.support_)\n",
    "# 为每一个类别获得支持向量的数量\n",
    "print('支持向量数量：',clf.n_support_)\n",
    "\n",
    "print(clf.score(train_X,train_y.values.ravel()))\n",
    "print(clf.score(test_X,test_y))\n",
    "\n",
    "print('精确度:%.5f' % precision_score(y_true=test_y, y_pred=y))\n",
    "print('召回率:%.5f' % recall_score(y_true=test_y, y_pred=y))\n",
    "print('F1值:%.5f' % f1_score(y_true=test_y, y_pred=y))"
   ]
  },
  {
   "cell_type": "code",
   "execution_count": null,
   "metadata": {},
   "outputs": [],
   "source": []
  }
 ],
 "metadata": {
  "kernelspec": {
   "display_name": "Python 3",
   "language": "python",
   "name": "python3"
  },
  "language_info": {
   "codemirror_mode": {
    "name": "ipython",
    "version": 3
   },
   "file_extension": ".py",
   "mimetype": "text/x-python",
   "name": "python",
   "nbconvert_exporter": "python",
   "pygments_lexer": "ipython3",
   "version": "3.7.1"
  }
 },
 "nbformat": 4,
 "nbformat_minor": 2
}

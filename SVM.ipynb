{
 "cells": [
  {
   "cell_type": "code",
   "execution_count": 3,
   "metadata": {},
   "outputs": [
    {
     "name": "stdout",
     "output_type": "stream",
     "text": [
      "0.9994285714285714\n",
      "0.767\n",
      "Precision:0.712\n",
      "Recall:0.935\n",
      "F1:0.808\n"
     ]
    }
   ],
   "source": [
    "import matplotlib.pyplot as plt\n",
    "import pandas as pd\n",
    "from sklearn.metrics import precision_score\n",
    "from sklearn.metrics import recall_score,f1_score\n",
    "\n",
    "train = pd.read_csv('Training-set.csv')\n",
    "test = pd.read_csv('Testing-set.csv')\n",
    "train_X = train[['a', 'b', 'c']]\n",
    "train_y = train[['t']]\n",
    "test_X = test[['a', 'b', 'c']]\n",
    "test_y = test[['t']]\n",
    "test_ys=pd.read_csv('Testing-set.csv')\n",
    "\n",
    "\n",
    "from sklearn import svm\n",
    "\n",
    "\n",
    "clf = svm.SVC(C=1, kernel='rbf', gamma=25, decision_function_shape='ovr')\n",
    "\n",
    "\n",
    "clf = clf.fit(train_X,train_y.values.ravel())\n",
    "y=clf.predict(test_X)\n",
    "\n",
    "\n",
    "\n",
    "print(clf.score(train_X,train_y.values.ravel()))\n",
    "print(clf.score(test_X,test_y))\n",
    "print('Precision:%.3f'%precision_score(y_true=test_y,y_pred=y))\n",
    "print('Recall:%.3f'%recall_score(y_true=test_y,y_pred=y))\n",
    "print('F1:%.3f'%f1_score(y_true=test_y,y_pred=y))\n"
   ]
  },
  {
   "cell_type": "code",
   "execution_count": null,
   "metadata": {},
   "outputs": [],
   "source": []
  }
 ],
 "metadata": {
  "kernelspec": {
   "display_name": "Python 3",
   "language": "python",
   "name": "python3"
  },
  "language_info": {
   "codemirror_mode": {
    "name": "ipython",
    "version": 3
   },
   "file_extension": ".py",
   "mimetype": "text/x-python",
   "name": "python",
   "nbconvert_exporter": "python",
   "pygments_lexer": "ipython3",
   "version": "3.7.1"
  }
 },
 "nbformat": 4,
 "nbformat_minor": 2
}
